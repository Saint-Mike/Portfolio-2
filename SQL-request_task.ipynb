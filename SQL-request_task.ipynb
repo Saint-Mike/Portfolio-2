{
 "cells": [
  {
   "cell_type": "markdown",
   "metadata": {},
   "source": [
    "# Задание 3\n",
    "\n",
    "В базе данных вашей компании присутствуют следующие таблицы:\n",
    "\n",
    "* city\n",
    "* client\n",
    "* promotion\n",
    "* purchase\n",
    "\n",
    "### Вам нужно написать запрос, чтобы получить такую таблицу\n",
    "\n",
    "* **purchase_date** – дата покупки\n",
    "* **purchase_id** – id покупки\n",
    "* **client_id** – id покупателя\n",
    "* **client_age** – возраст покупателя\n",
    "* **client_registration_age** – как долго человек пользуется вашими магазинами\n",
    "* **client_category** – содержит **new** или **old**, если это первая или последующая покупка соответственно\n",
    "* **promotion_name** – акция\n",
    "* **category_name** – категория\n",
    "* **partner_name** – партнёр\n",
    "* **client_city** – город, где находится покупатель\n",
    "* **city** – город\n",
    "* **revenue** – сумма выручки\n",
    "* **quantity** – число проданных единиц\n",
    "\n",
    "*При этом в таблице должны присутствовать только значения, где в поле status стоит значение 1, и только те, где purchase_date находится в диапазоне от 01.05.2020 до 01.08.2020*"
   ]
  },
  {
   "cell_type": "code",
   "execution_count": 1,
   "metadata": {},
   "outputs": [],
   "source": [
    "import pandas as pd\n",
    "import pandahouse as ph"
   ]
  },
  {
   "cell_type": "markdown",
   "metadata": {},
   "source": [
    "### Подключение к СУБД"
   ]
  },
  {
   "cell_type": "markdown",
   "metadata": {},
   "source": [
    "Прописываем учетные данные для подключения к серверу:"
   ]
  },
  {
   "cell_type": "code",
   "execution_count": 2,
   "metadata": {},
   "outputs": [],
   "source": [
    "connection = dict(database = 'project_variant_2',\n",
    "                  host = 'https://clickhouse.lab.karpov.courses',\n",
    "                  user = 'student',\n",
    "                  password = 'dpo_python_2020')"
   ]
  },
  {
   "cell_type": "markdown",
   "metadata": {},
   "source": [
    "Определяем SQL-запрос для вывода итоговой таблицы:"
   ]
  },
  {
   "cell_type": "code",
   "execution_count": 3,
   "metadata": {},
   "outputs": [],
   "source": [
    "query = '''\n",
    "SELECT\n",
    "    d.purchase_date as purchase_date,\n",
    "    d.purchase_id as purchase_id,\n",
    "    d.client_id as client_id,\n",
    "    dateDiff(YEAR, b.birth_date, NOW()) as client_age,\n",
    "    dateDiff(YEAR, b.birth_date, b.registration) AS client_registration_age,\n",
    "    if(d.purchase_id > f.min_purchase_id, 'old', 'new') as client_category,\n",
    "    c.promotion_name as promotion_name,\n",
    "    c.category_name as category_name,\n",
    "    c.partner_name as partner_name,\n",
    "    a.client_city as client_city,\n",
    "    a.city as city,\n",
    "    CAST(d.quantity AS Float32) * CAST(d.price AS Float32) as revenue,\n",
    "    CAST(d.quantity AS Float32) as quantity\n",
    "FROM project_variant_2.purchase as d\n",
    "JOIN \n",
    "    (\n",
    "    SELECT \n",
    "        birth_date,\n",
    "        registration,\n",
    "        client_id\n",
    "    FROM \n",
    "        project_variant_2.client\n",
    "    ) as b\n",
    "    on d.client_id = b.client_id\n",
    "JOIN\n",
    "    (\n",
    "    SELECT\n",
    "        promotion_name,\n",
    "        category_name,\n",
    "        partner_name,\n",
    "        promotion_id\n",
    "    FROM\n",
    "        project_variant_2.promotion\n",
    "    ) as c\n",
    "    on d.promotion_id = c.promotion_id\n",
    "LEFT SEMI JOIN\n",
    "    (\n",
    "    SELECT\n",
    "        client_city,\n",
    "        city,\n",
    "        city_id\n",
    "    FROM project_variant_2.city\n",
    "    ) as a\n",
    "    on d.city_id = a.city_id\n",
    "JOIN\n",
    "    (\n",
    "    SELECT\n",
    "        min(purchase_id) as min_purchase_id,\n",
    "        client_id\n",
    "    FROM \n",
    "        project_variant_2.purchase\n",
    "    GROUP BY\n",
    "        client_id\n",
    "    ) as f\n",
    "    on f.client_id=d.client_id\n",
    "WHERE \n",
    "        d.status = 1\n",
    "    AND d.purchase_date >= '2020-05-01'\n",
    "    AND d.purchase_date < '2020-08-01'\n",
    "ORDER BY client_id\n",
    "'''"
   ]
  },
  {
   "cell_type": "markdown",
   "metadata": {},
   "source": [
    "Создаем необходимый датафрейм, обращаясь к **СУБД** через фреймворк **pandahouse**:"
   ]
  },
  {
   "cell_type": "code",
   "execution_count": 4,
   "metadata": {},
   "outputs": [],
   "source": [
    "df = ph.read_clickhouse(query, connection=connection)"
   ]
  },
  {
   "cell_type": "markdown",
   "metadata": {},
   "source": [
    "Проверим итоговый датафрейм:"
   ]
  },
  {
   "cell_type": "code",
   "execution_count": 5,
   "metadata": {},
   "outputs": [
    {
     "data": {
      "text/html": [
       "<div>\n",
       "<style scoped>\n",
       "    .dataframe tbody tr th:only-of-type {\n",
       "        vertical-align: middle;\n",
       "    }\n",
       "\n",
       "    .dataframe tbody tr th {\n",
       "        vertical-align: top;\n",
       "    }\n",
       "\n",
       "    .dataframe thead th {\n",
       "        text-align: right;\n",
       "    }\n",
       "</style>\n",
       "<table border=\"1\" class=\"dataframe\">\n",
       "  <thead>\n",
       "    <tr style=\"text-align: right;\">\n",
       "      <th></th>\n",
       "      <th>purchase_date</th>\n",
       "      <th>purchase_id</th>\n",
       "      <th>client_id</th>\n",
       "      <th>client_age</th>\n",
       "      <th>client_registration_age</th>\n",
       "      <th>client_category</th>\n",
       "      <th>promotion_name</th>\n",
       "      <th>category_name</th>\n",
       "      <th>partner_name</th>\n",
       "      <th>client_city</th>\n",
       "      <th>city</th>\n",
       "      <th>revenue</th>\n",
       "      <th>quantity</th>\n",
       "    </tr>\n",
       "  </thead>\n",
       "  <tbody>\n",
       "    <tr>\n",
       "      <th>0</th>\n",
       "      <td>2020-07-26</td>\n",
       "      <td>918</td>\n",
       "      <td>1</td>\n",
       "      <td>26</td>\n",
       "      <td>25</td>\n",
       "      <td>new</td>\n",
       "      <td>campaign_4</td>\n",
       "      <td>Прочее</td>\n",
       "      <td>KarpovCourses</td>\n",
       "      <td>Санкт-Петербург</td>\n",
       "      <td>Минск</td>\n",
       "      <td>615.0</td>\n",
       "      <td>3.0</td>\n",
       "    </tr>\n",
       "    <tr>\n",
       "      <th>1</th>\n",
       "      <td>2020-07-20</td>\n",
       "      <td>3002</td>\n",
       "      <td>1</td>\n",
       "      <td>26</td>\n",
       "      <td>25</td>\n",
       "      <td>old</td>\n",
       "      <td>campaign_2</td>\n",
       "      <td>Фрукты</td>\n",
       "      <td>ООО Ширяева, Хохлова и Тимофеева</td>\n",
       "      <td>Минск</td>\n",
       "      <td>Новгород</td>\n",
       "      <td>660.0</td>\n",
       "      <td>3.0</td>\n",
       "    </tr>\n",
       "    <tr>\n",
       "      <th>2</th>\n",
       "      <td>2020-07-24</td>\n",
       "      <td>3626</td>\n",
       "      <td>1</td>\n",
       "      <td>26</td>\n",
       "      <td>25</td>\n",
       "      <td>old</td>\n",
       "      <td>campaign_2</td>\n",
       "      <td>Фрукты</td>\n",
       "      <td>ООО Ширяева, Хохлова и Тимофеева</td>\n",
       "      <td>Новгород</td>\n",
       "      <td>Ярославль</td>\n",
       "      <td>2280.0</td>\n",
       "      <td>8.0</td>\n",
       "    </tr>\n",
       "    <tr>\n",
       "      <th>3</th>\n",
       "      <td>2020-06-08</td>\n",
       "      <td>6111</td>\n",
       "      <td>2</td>\n",
       "      <td>23</td>\n",
       "      <td>20</td>\n",
       "      <td>old</td>\n",
       "      <td>campaign_3</td>\n",
       "      <td>Овощи</td>\n",
       "      <td>Всем партнёрам партнёр</td>\n",
       "      <td>Санкт-Петербург</td>\n",
       "      <td>Минск</td>\n",
       "      <td>360.0</td>\n",
       "      <td>1.0</td>\n",
       "    </tr>\n",
       "    <tr>\n",
       "      <th>4</th>\n",
       "      <td>2020-05-21</td>\n",
       "      <td>6702</td>\n",
       "      <td>2</td>\n",
       "      <td>23</td>\n",
       "      <td>20</td>\n",
       "      <td>old</td>\n",
       "      <td>campaign_4</td>\n",
       "      <td>Прочее</td>\n",
       "      <td>KarpovCourses</td>\n",
       "      <td>Санкт-Петербург</td>\n",
       "      <td>Минск</td>\n",
       "      <td>465.0</td>\n",
       "      <td>3.0</td>\n",
       "    </tr>\n",
       "  </tbody>\n",
       "</table>\n",
       "</div>"
      ],
      "text/plain": [
       "  purchase_date  purchase_id  client_id  client_age  client_registration_age  \\\n",
       "0    2020-07-26          918          1          26                       25   \n",
       "1    2020-07-20         3002          1          26                       25   \n",
       "2    2020-07-24         3626          1          26                       25   \n",
       "3    2020-06-08         6111          2          23                       20   \n",
       "4    2020-05-21         6702          2          23                       20   \n",
       "\n",
       "  client_category promotion_name category_name  \\\n",
       "0             new     campaign_4        Прочее   \n",
       "1             old     campaign_2        Фрукты   \n",
       "2             old     campaign_2        Фрукты   \n",
       "3             old     campaign_3         Овощи   \n",
       "4             old     campaign_4        Прочее   \n",
       "\n",
       "                       partner_name      client_city       city  revenue  \\\n",
       "0                     KarpovCourses  Санкт-Петербург      Минск    615.0   \n",
       "1  ООО Ширяева, Хохлова и Тимофеева            Минск   Новгород    660.0   \n",
       "2  ООО Ширяева, Хохлова и Тимофеева         Новгород  Ярославль   2280.0   \n",
       "3            Всем партнёрам партнёр  Санкт-Петербург      Минск    360.0   \n",
       "4                     KarpovCourses  Санкт-Петербург      Минск    465.0   \n",
       "\n",
       "   quantity  \n",
       "0       3.0  \n",
       "1       3.0  \n",
       "2       8.0  \n",
       "3       1.0  \n",
       "4       3.0  "
      ]
     },
     "execution_count": 5,
     "metadata": {},
     "output_type": "execute_result"
    }
   ],
   "source": [
    "df.head()"
   ]
  },
  {
   "cell_type": "code",
   "execution_count": 6,
   "metadata": {},
   "outputs": [
    {
     "data": {
      "text/plain": [
       "(2695, 13)"
      ]
     },
     "execution_count": 6,
     "metadata": {},
     "output_type": "execute_result"
    }
   ],
   "source": [
    "df.shape"
   ]
  },
  {
   "cell_type": "code",
   "execution_count": 7,
   "metadata": {},
   "outputs": [
    {
     "data": {
      "text/plain": [
       "purchase_date              datetime64[ns]\n",
       "purchase_id                         int32\n",
       "client_id                           int32\n",
       "client_age                          int64\n",
       "client_registration_age             int64\n",
       "client_category                    object\n",
       "promotion_name                     object\n",
       "category_name                      object\n",
       "partner_name                       object\n",
       "client_city                        object\n",
       "city                               object\n",
       "revenue                           float64\n",
       "quantity                          float32\n",
       "dtype: object"
      ]
     },
     "execution_count": 7,
     "metadata": {},
     "output_type": "execute_result"
    }
   ],
   "source": [
    "df.dtypes"
   ]
  },
  {
   "cell_type": "code",
   "execution_count": 8,
   "metadata": {},
   "outputs": [
    {
     "data": {
      "text/plain": [
       "purchase_date              0\n",
       "purchase_id                0\n",
       "client_id                  0\n",
       "client_age                 0\n",
       "client_registration_age    0\n",
       "client_category            0\n",
       "promotion_name             0\n",
       "category_name              0\n",
       "partner_name               0\n",
       "client_city                0\n",
       "city                       0\n",
       "revenue                    0\n",
       "quantity                   0\n",
       "dtype: int64"
      ]
     },
     "execution_count": 8,
     "metadata": {},
     "output_type": "execute_result"
    }
   ],
   "source": [
    "df.isna().sum()"
   ]
  },
  {
   "cell_type": "code",
   "execution_count": 11,
   "metadata": {},
   "outputs": [
    {
     "data": {
      "text/plain": [
       "Timestamp('2020-05-01 00:00:00')"
      ]
     },
     "execution_count": 11,
     "metadata": {},
     "output_type": "execute_result"
    }
   ],
   "source": [
    "min(df.purchase_date)"
   ]
  },
  {
   "cell_type": "code",
   "execution_count": 12,
   "metadata": {},
   "outputs": [
    {
     "data": {
      "text/plain": [
       "Timestamp('2020-07-31 00:00:00')"
      ]
     },
     "execution_count": 12,
     "metadata": {},
     "output_type": "execute_result"
    }
   ],
   "source": [
    "max(df.purchase_date)"
   ]
  },
  {
   "cell_type": "markdown",
   "metadata": {},
   "source": [
    "* Создание датафрейма выполнено успешно, датафрейм состоит только из необходимых нам колонок;\n",
    "* Пропущенные значения отсутствуют;\n",
    "* Типы данных соответствуют значениям в колонках;\n",
    "* Временной интервал соответствует запрашиваемому (от 01-05-2020 по 31-07-2020 включительно)."
   ]
  },
  {
   "cell_type": "markdown",
   "metadata": {},
   "source": [
    "### Запись полученной таблицы в итоговый csv-файл"
   ]
  },
  {
   "cell_type": "code",
   "execution_count": 9,
   "metadata": {},
   "outputs": [],
   "source": [
    "df.to_csv('sql_df.csv', index=False)"
   ]
  }
 ],
 "metadata": {
  "kernelspec": {
   "display_name": "Python 3 (ipykernel)",
   "language": "python",
   "name": "python3"
  },
  "language_info": {
   "codemirror_mode": {
    "name": "ipython",
    "version": 3
   },
   "file_extension": ".py",
   "mimetype": "text/x-python",
   "name": "python",
   "nbconvert_exporter": "python",
   "pygments_lexer": "ipython3",
   "version": "3.8.7"
  }
 },
 "nbformat": 4,
 "nbformat_minor": 4
}
