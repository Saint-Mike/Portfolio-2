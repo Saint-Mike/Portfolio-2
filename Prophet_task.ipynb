{
 "cells": [
  {
   "cell_type": "markdown",
   "metadata": {},
   "source": [
    "# Задание 2\n",
    "\n",
    "К вам поступила информация о числе заказов за прошедшие **3 месяца** с разрешением по неделям. Постройте (если это возможно) прогноз продаж на следующие **3 месяца**, с учётом того, что в неделю с **2020-02-02** по **2020-02-09** была проведена массивная акция, повысившая число заказов на **7%**."
   ]
  },
  {
   "cell_type": "code",
   "execution_count": 1,
   "metadata": {},
   "outputs": [
    {
     "data": {
      "text/html": [
       "        <script type=\"text/javascript\">\n",
       "        window.PlotlyConfig = {MathJaxConfig: 'local'};\n",
       "        if (window.MathJax) {MathJax.Hub.Config({SVG: {font: \"STIX-Web\"}});}\n",
       "        if (typeof require !== 'undefined') {\n",
       "        require.undef(\"plotly\");\n",
       "        requirejs.config({\n",
       "            paths: {\n",
       "                'plotly': ['https://cdn.plot.ly/plotly-2.3.1.min']\n",
       "            }\n",
       "        });\n",
       "        require(['plotly'], function(Plotly) {\n",
       "            window._Plotly = Plotly;\n",
       "        });\n",
       "        }\n",
       "        </script>\n",
       "        "
      ]
     },
     "metadata": {},
     "output_type": "display_data"
    }
   ],
   "source": [
    "import pandas as pd\n",
    "import seaborn as sns\n",
    "import matplotlib.pyplot as plt\n",
    "import numpy as np\n",
    "from datetime import date\n",
    "from fbprophet import Prophet\n",
    "from plotly.offline import download_plotlyjs, init_notebook_mode, plot, iplot\n",
    "import plotly.graph_objs as go\n",
    "init_notebook_mode(connected = True)"
   ]
  },
  {
   "cell_type": "markdown",
   "metadata": {},
   "source": [
    "### Открытие csv-файла и проверка его содержимого"
   ]
  },
  {
   "cell_type": "code",
   "execution_count": 2,
   "metadata": {},
   "outputs": [],
   "source": [
    "df = pd.read_csv('test2_completed.csv')"
   ]
  },
  {
   "cell_type": "code",
   "execution_count": 3,
   "metadata": {},
   "outputs": [
    {
     "data": {
      "text/plain": [
       "Дата             object\n",
       "Число заказов     int64\n",
       "dtype: object"
      ]
     },
     "execution_count": 3,
     "metadata": {},
     "output_type": "execute_result"
    }
   ],
   "source": [
    "df.dtypes"
   ]
  },
  {
   "cell_type": "code",
   "execution_count": 4,
   "metadata": {},
   "outputs": [
    {
     "data": {
      "text/html": [
       "<div>\n",
       "<style scoped>\n",
       "    .dataframe tbody tr th:only-of-type {\n",
       "        vertical-align: middle;\n",
       "    }\n",
       "\n",
       "    .dataframe tbody tr th {\n",
       "        vertical-align: top;\n",
       "    }\n",
       "\n",
       "    .dataframe thead th {\n",
       "        text-align: right;\n",
       "    }\n",
       "</style>\n",
       "<table border=\"1\" class=\"dataframe\">\n",
       "  <thead>\n",
       "    <tr style=\"text-align: right;\">\n",
       "      <th></th>\n",
       "      <th>Дата</th>\n",
       "      <th>Число заказов</th>\n",
       "    </tr>\n",
       "  </thead>\n",
       "  <tbody>\n",
       "    <tr>\n",
       "      <th>0</th>\n",
       "      <td>2020-01-05</td>\n",
       "      <td>650</td>\n",
       "    </tr>\n",
       "    <tr>\n",
       "      <th>1</th>\n",
       "      <td>2020-01-12</td>\n",
       "      <td>837</td>\n",
       "    </tr>\n",
       "    <tr>\n",
       "      <th>2</th>\n",
       "      <td>2020-01-19</td>\n",
       "      <td>1020</td>\n",
       "    </tr>\n",
       "    <tr>\n",
       "      <th>3</th>\n",
       "      <td>2020-01-26</td>\n",
       "      <td>1176</td>\n",
       "    </tr>\n",
       "    <tr>\n",
       "      <th>4</th>\n",
       "      <td>2020-02-02</td>\n",
       "      <td>1489</td>\n",
       "    </tr>\n",
       "    <tr>\n",
       "      <th>5</th>\n",
       "      <td>2020-02-09</td>\n",
       "      <td>1823</td>\n",
       "    </tr>\n",
       "    <tr>\n",
       "      <th>6</th>\n",
       "      <td>2020-02-16</td>\n",
       "      <td>1991</td>\n",
       "    </tr>\n",
       "    <tr>\n",
       "      <th>7</th>\n",
       "      <td>2020-02-23</td>\n",
       "      <td>2166</td>\n",
       "    </tr>\n",
       "    <tr>\n",
       "      <th>8</th>\n",
       "      <td>2020-03-01</td>\n",
       "      <td>2334</td>\n",
       "    </tr>\n",
       "    <tr>\n",
       "      <th>9</th>\n",
       "      <td>2020-03-08</td>\n",
       "      <td>2607</td>\n",
       "    </tr>\n",
       "    <tr>\n",
       "      <th>10</th>\n",
       "      <td>2020-03-15</td>\n",
       "      <td>2734</td>\n",
       "    </tr>\n",
       "    <tr>\n",
       "      <th>11</th>\n",
       "      <td>2020-03-22</td>\n",
       "      <td>3492</td>\n",
       "    </tr>\n",
       "    <tr>\n",
       "      <th>12</th>\n",
       "      <td>2020-03-29</td>\n",
       "      <td>3608</td>\n",
       "    </tr>\n",
       "    <tr>\n",
       "      <th>13</th>\n",
       "      <td>2020-04-05</td>\n",
       "      <td>3857</td>\n",
       "    </tr>\n",
       "  </tbody>\n",
       "</table>\n",
       "</div>"
      ],
      "text/plain": [
       "          Дата  Число заказов\n",
       "0   2020-01-05            650\n",
       "1   2020-01-12            837\n",
       "2   2020-01-19           1020\n",
       "3   2020-01-26           1176\n",
       "4   2020-02-02           1489\n",
       "5   2020-02-09           1823\n",
       "6   2020-02-16           1991\n",
       "7   2020-02-23           2166\n",
       "8   2020-03-01           2334\n",
       "9   2020-03-08           2607\n",
       "10  2020-03-15           2734\n",
       "11  2020-03-22           3492\n",
       "12  2020-03-29           3608\n",
       "13  2020-04-05           3857"
      ]
     },
     "execution_count": 4,
     "metadata": {},
     "output_type": "execute_result"
    }
   ],
   "source": [
    "df"
   ]
  },
  {
   "cell_type": "code",
   "execution_count": 5,
   "metadata": {},
   "outputs": [
    {
     "data": {
      "text/plain": [
       "(14, 2)"
      ]
     },
     "execution_count": 5,
     "metadata": {},
     "output_type": "execute_result"
    }
   ],
   "source": [
    "df.shape"
   ]
  },
  {
   "cell_type": "code",
   "execution_count": 6,
   "metadata": {},
   "outputs": [
    {
     "data": {
      "text/plain": [
       "<AxesSubplot:xlabel='Дата', ylabel='Число заказов'>"
      ]
     },
     "execution_count": 6,
     "metadata": {},
     "output_type": "execute_result"
    },
    {
     "data": {
      "image/png": "[encoded data removed]",
      "text/plain": [
       "<Figure size 720x576 with 1 Axes>"
      ]
     },
     "metadata": {
      "needs_background": "light"
     },
     "output_type": "display_data"
    }
   ],
   "source": [
    "plt.figure(figsize=(10,8))\n",
    "sns.lineplot(data = df, x='Дата', y='Число заказов')"
   ]
  },
  {
   "cell_type": "markdown",
   "metadata": {},
   "source": [
    "Исходный датафрейм является слишком маленьким для точного предсказания, но можно попробовать спрогнозировать приблизительный тренд развития с помощью Facebook Prophet. Для этого необходимо привести исходный датафрейм к определенному виду."
   ]
  },
  {
   "cell_type": "markdown",
   "metadata": {},
   "source": [
    "### Подготовка датафрейма для Facebook Prophet"
   ]
  },
  {
   "cell_type": "markdown",
   "metadata": {},
   "source": [
    "Преобразуем названия колонок в стандартизированные. Из функции выше видно, что колонка **'Дата'** имеет тип данных **object**. Её также необходимо привести к виду **datetime**:"
   ]
  },
  {
   "cell_type": "code",
   "execution_count": 7,
   "metadata": {},
   "outputs": [],
   "source": [
    "df = df.rename(columns={'Дата':'ds', 'Число заказов':'y'})\n",
    "df['ds'] = pd.to_datetime(df.ds)"
   ]
  },
  {
   "cell_type": "markdown",
   "metadata": {},
   "source": [
    "### Подготовка модели Facebook Prophet"
   ]
  },
  {
   "cell_type": "markdown",
   "metadata": {},
   "source": [
    "Поскольку у нас имеется всего 14 строк с данными, не вижу смысла тренировать модель на выборке из них. Будем использовать весь датафрейм. У нас нет необходимой разбивки данных по часам, дням или месяцам, поэтому передать сезонность в параметры модели не представляется возможным. А так как количество наблюдений захватывает лишь малый период от года, то включать праздничные и выходные дни тоже нецелесообразно. \n",
    "Учтем проведенную промоакцию **с 02-02-2020 по 09-02-2020**, увеличившую количество заказов на **7%**. Учитывая разбивку данных по неделям, возьмем за итоговую дату события последний ее день **09-02-2020**. Для этого заведем отдельный датафрейм, в который передадим стандартизированное значение промо-акции:"
   ]
  },
  {
   "cell_type": "code",
   "execution_count": 8,
   "metadata": {},
   "outputs": [],
   "source": [
    "promo_action = pd.DataFrame({'holiday':'promo_action', 'ds':pd.to_datetime(['2020-02-09'])})"
   ]
  },
  {
   "cell_type": "code",
   "execution_count": 9,
   "metadata": {},
   "outputs": [
    {
     "data": {
      "text/html": [
       "<div>\n",
       "<style scoped>\n",
       "    .dataframe tbody tr th:only-of-type {\n",
       "        vertical-align: middle;\n",
       "    }\n",
       "\n",
       "    .dataframe tbody tr th {\n",
       "        vertical-align: top;\n",
       "    }\n",
       "\n",
       "    .dataframe thead th {\n",
       "        text-align: right;\n",
       "    }\n",
       "</style>\n",
       "<table border=\"1\" class=\"dataframe\">\n",
       "  <thead>\n",
       "    <tr style=\"text-align: right;\">\n",
       "      <th></th>\n",
       "      <th>holiday</th>\n",
       "      <th>ds</th>\n",
       "    </tr>\n",
       "  </thead>\n",
       "  <tbody>\n",
       "    <tr>\n",
       "      <th>0</th>\n",
       "      <td>promo_action</td>\n",
       "      <td>2020-02-09</td>\n",
       "    </tr>\n",
       "  </tbody>\n",
       "</table>\n",
       "</div>"
      ],
      "text/plain": [
       "        holiday         ds\n",
       "0  promo_action 2020-02-09"
      ]
     },
     "execution_count": 9,
     "metadata": {},
     "output_type": "execute_result"
    }
   ],
   "source": [
    "promo_action"
   ]
  },
  {
   "cell_type": "code",
   "execution_count": 10,
   "metadata": {},
   "outputs": [
    {
     "name": "stderr",
     "output_type": "stream",
     "text": [
      "INFO:fbprophet:Disabling yearly seasonality. Run prophet with yearly_seasonality=True to override this.\n",
      "INFO:fbprophet:Disabling weekly seasonality. Run prophet with weekly_seasonality=True to override this.\n",
      "INFO:fbprophet:Disabling daily seasonality. Run prophet with daily_seasonality=True to override this.\n",
      "INFO:fbprophet:n_changepoints greater than number of observations. Using 10.\n"
     ]
    },
    {
     "name": "stdout",
     "output_type": "stream",
     "text": [
      "\n",
      "Initial log joint probability = -0.373554\n",
      "Iteration  1. Log joint probability =    19.3709. Improved by 19.7444.\n",
      "Iteration  2. Log joint probability =     33.053. Improved by 13.6821.\n",
      "Iteration  3. Log joint probability =    39.2141. Improved by 6.16112.\n",
      "Iteration  4. Log joint probability =    39.5556. Improved by 0.341459.\n",
      "Iteration  5. Log joint probability =    39.7138. Improved by 0.158229.\n",
      "Iteration  6. Log joint probability =    39.7635. Improved by 0.0496289.\n",
      "Iteration  7. Log joint probability =    39.9985. Improved by 0.235031.\n",
      "Iteration  8. Log joint probability =    40.0134. Improved by 0.0149615.\n",
      "Iteration  9. Log joint probability =    40.0188. Improved by 0.00540398.\n",
      "Iteration 10. Log joint probability =    40.1875. Improved by 0.168652.\n",
      "Iteration 11. Log joint probability =    40.2522. Improved by 0.0647232.\n",
      "Iteration 12. Log joint probability =    40.2799. Improved by 0.0276926.\n",
      "Iteration 13. Log joint probability =    40.2866. Improved by 0.00669751.\n",
      "Iteration 14. Log joint probability =    40.2871. Improved by 0.000519268.\n",
      "Iteration 15. Log joint probability =    40.2948. Improved by 0.00768608.\n",
      "Iteration 16. Log joint probability =    40.2969. Improved by 0.00208046.\n",
      "Iteration 17. Log joint probability =    40.2982. Improved by 0.00128668.\n",
      "Iteration 18. Log joint probability =    40.3024. Improved by 0.00419668.\n",
      "Iteration 19. Log joint probability =     40.304. Improved by 0.00165533.\n",
      "Iteration 20. Log joint probability =    40.3064. Improved by 0.00233511.\n",
      "Iteration 21. Log joint probability =    40.3066. Improved by 0.000232107.\n",
      "Iteration 22. Log joint probability =    40.3071. Improved by 0.000444587.\n",
      "Iteration 23. Log joint probability =    40.3077. Improved by 0.000602053.\n",
      "Iteration 24. Log joint probability =     40.308. Improved by 0.000358857.\n",
      "Iteration 25. Log joint probability =    40.3084. Improved by 0.000391359.\n",
      "Iteration 26. Log joint probability =    40.3092. Improved by 0.000805095.\n",
      "Iteration 27. Log joint probability =    40.3094. Improved by 0.000159141.\n",
      "Iteration 28. Log joint probability =    40.3096. Improved by 0.000254823.\n",
      "Iteration 29. Log joint probability =    40.3097. Improved by 0.000119741.\n",
      "Iteration 30. Log joint probability =    40.3098. Improved by 5.55581e-05.\n",
      "Iteration 31. Log joint probability =      40.31. Improved by 0.000161008.\n",
      "Iteration 32. Log joint probability =    40.3102. Improved by 0.000192856.\n",
      "Iteration 33. Log joint probability =    40.3102. Improved by 2.79203e-05.\n",
      "Iteration 34. Log joint probability =    40.3102. Improved by 7.90774e-06.\n",
      "Iteration 35. Log joint probability =    40.3102. Improved by 2.59271e-05.\n",
      "Iteration 36. Log joint probability =    40.3102. Improved by 3.12709e-06.\n",
      "Iteration 37. Log joint probability =    40.3102. Improved by 2.08316e-05.\n",
      "Iteration 38. Log joint probability =    40.3102. Improved by 8.13071e-06.\n",
      "Iteration 39. Log joint probability =    40.3103. Improved by 8.93478e-06.\n",
      "Iteration 40. Log joint probability =    40.3103. Improved by 6.46017e-06.\n",
      "Iteration 41. Log joint probability =    40.3103. Improved by 1.14975e-05.\n",
      "Iteration 42. Log joint probability =    40.3103. Improved by 3.01413e-07.\n",
      "Iteration 43. Log joint probability =    40.3103. Improved by 3.29852e-06.\n",
      "Iteration 44. Log joint probability =    40.3103. Improved by 3.08482e-07.\n",
      "Iteration 45. Log joint probability =    40.3103. Improved by 2.3907e-08.\n",
      "Iteration 46. Log joint probability =    40.3103. Improved by 4.09933e-07.\n",
      "Iteration 47. Log joint probability =    40.3103. Improved by 3.23946e-08.\n",
      "Iteration 48. Log joint probability =    40.3103. Improved by 2.39371e-08.\n",
      "Iteration 49. Log joint probability =    40.3103. Improved by 4.69173e-08.\n",
      "Iteration 50. Log joint probability =    40.3103. Improved by 6.48118e-08.\n",
      "Iteration 51. Log joint probability =    40.3103. Improved by 9.4163e-08.\n",
      "Iteration 52. Log joint probability =    40.3103. Improved by 4.35951e-07.\n",
      "Iteration 53. Log joint probability =    40.3103. Improved by 9.37617e-09.\n"
     ]
    }
   ],
   "source": [
    "predict_model = Prophet(holidays=promo_action)\n",
    "predict_model.fit(df)\n",
    "predictions=13"
   ]
  },
  {
   "cell_type": "code",
   "execution_count": 11,
   "metadata": {},
   "outputs": [],
   "source": [
    "future = predict_model.make_future_dataframe(periods=predictions, freq='W')\n",
    "forecast = predict_model.predict(future)"
   ]
  },
  {
   "cell_type": "code",
   "execution_count": 12,
   "metadata": {},
   "outputs": [
    {
     "data": {
      "image/png": "[encoded data removed]",
      "text/plain": [
       "<Figure size 720x432 with 1 Axes>"
      ]
     },
     "execution_count": 12,
     "metadata": {},
     "output_type": "execute_result"
    },
    {
     "data": {
      "image/png": "[encoded data removed]",
      "text/plain": [
       "<Figure size 720x432 with 1 Axes>"
      ]
     },
     "metadata": {},
     "output_type": "display_data"
    }
   ],
   "source": [
    "predict_model.plot(forecast)"
   ]
  },
  {
   "cell_type": "markdown",
   "metadata": {},
   "source": [
    "### Построение интерактивного графика"
   ]
  },
  {
   "cell_type": "code",
   "execution_count": 13,
   "metadata": {},
   "outputs": [
    {
     "data": {
      "application/vnd.plotly.v1+json": {
       "config": {
        "linkText": "Export to plot.ly",
        "plotlyServerURL": "https://plot.ly",
        "showLink": false
       },
       "data": [
        {
         "name": "fact",
         "type": "scatter",
         "x": [
          "2020-01-05T00:00:00",
          "2020-01-12T00:00:00",
          "2020-01-19T00:00:00",
          "2020-01-26T00:00:00",
          "2020-02-02T00:00:00",
          "2020-02-09T00:00:00",
          "2020-02-16T00:00:00",
          "2020-02-23T00:00:00",
          "2020-03-01T00:00:00",
          "2020-03-08T00:00:00",
          "2020-03-15T00:00:00",
          "2020-03-22T00:00:00",
          "2020-03-29T00:00:00",
          "2020-04-05T00:00:00"
         ],
         "y": [
          650,
          837,
          1020,
          1176,
          1489,
          1823,
          1991,
          2166,
          2334,
          2607,
          2734,
          3492,
          3608,
          3857
         ]
        },
        {
         "name": "prediction",
         "type": "scatter",
         "x": [
          "2020-01-05T00:00:00",
          "2020-01-12T00:00:00",
          "2020-01-19T00:00:00",
          "2020-01-26T00:00:00",
          "2020-02-02T00:00:00",
          "2020-02-09T00:00:00",
          "2020-02-16T00:00:00",
          "2020-02-23T00:00:00",
          "2020-03-01T00:00:00",
          "2020-03-08T00:00:00",
          "2020-03-15T00:00:00",
          "2020-03-22T00:00:00",
          "2020-03-29T00:00:00",
          "2020-04-05T00:00:00",
          "2020-04-12T00:00:00",
          "2020-04-19T00:00:00",
          "2020-04-26T00:00:00",
          "2020-05-03T00:00:00",
          "2020-05-10T00:00:00",
          "2020-05-17T00:00:00",
          "2020-05-24T00:00:00",
          "2020-05-31T00:00:00",
          "2020-06-07T00:00:00",
          "2020-06-14T00:00:00",
          "2020-06-21T00:00:00",
          "2020-06-28T00:00:00",
          "2020-07-05T00:00:00"
         ],
         "y": [
          536.4159256060391,
          776.2004404257383,
          1015.9849562437306,
          1255.7694721311393,
          1495.5539914073108,
          1823.0281682306656,
          1975.1306820020166,
          2215.020291650242,
          2455.0836062833287,
          2718.9370817819913,
          2983.0358792633037,
          3247.1425857883964,
          3511.2492923134882,
          3775.35599883858,
          4039.462705363672,
          4303.569411888764,
          4567.676118413857,
          4831.782824938949,
          5095.88953146404,
          5359.996237989132,
          5624.102944514225,
          5888.209651039317,
          6152.316357564409,
          6416.423064089501,
          6680.529770614594,
          6944.636477139686,
          7208.7431836647775
         ]
        },
        {
         "fill": "tonexty",
         "mode": "none",
         "name": "upper",
         "type": "scatter",
         "x": [
          "2020-01-05T00:00:00",
          "2020-01-12T00:00:00",
          "2020-01-19T00:00:00",
          "2020-01-26T00:00:00",
          "2020-02-02T00:00:00",
          "2020-02-09T00:00:00",
          "2020-02-16T00:00:00",
          "2020-02-23T00:00:00",
          "2020-03-01T00:00:00",
          "2020-03-08T00:00:00",
          "2020-03-15T00:00:00",
          "2020-03-22T00:00:00",
          "2020-03-29T00:00:00",
          "2020-04-05T00:00:00",
          "2020-04-12T00:00:00",
          "2020-04-19T00:00:00",
          "2020-04-26T00:00:00",
          "2020-05-03T00:00:00",
          "2020-05-10T00:00:00",
          "2020-05-17T00:00:00",
          "2020-05-24T00:00:00",
          "2020-05-31T00:00:00",
          "2020-06-07T00:00:00",
          "2020-06-14T00:00:00",
          "2020-06-21T00:00:00",
          "2020-06-28T00:00:00",
          "2020-07-05T00:00:00"
         ],
         "y": [
          693.6603148710605,
          932.801943584922,
          1165.2874476370691,
          1403.7187319632076,
          1638.225155899855,
          1978.6534391240639,
          2122.606404280046,
          2369.474148952161,
          2609.4240153071373,
          2861.4647701832932,
          3134.05845208755,
          3393.30611861308,
          3663.352575633084,
          3926.879795415045,
          4193.831002704854,
          4454.704679769749,
          4715.713002697322,
          4982.159936798898,
          5248.177947731684,
          5515.166222040994,
          5773.03966191107,
          6048.915977188017,
          6304.394752316982,
          6584.086152082175,
          6835.740101814974,
          7113.237195916789,
          7390.389490872659
         ]
        },
        {
         "fill": "tonexty",
         "mode": "none",
         "name": "lower",
         "type": "scatter",
         "x": [
          "2020-01-05T00:00:00",
          "2020-01-12T00:00:00",
          "2020-01-19T00:00:00",
          "2020-01-26T00:00:00",
          "2020-02-02T00:00:00",
          "2020-02-09T00:00:00",
          "2020-02-16T00:00:00",
          "2020-02-23T00:00:00",
          "2020-03-01T00:00:00",
          "2020-03-08T00:00:00",
          "2020-03-15T00:00:00",
          "2020-03-22T00:00:00",
          "2020-03-29T00:00:00",
          "2020-04-05T00:00:00",
          "2020-04-12T00:00:00",
          "2020-04-19T00:00:00",
          "2020-04-26T00:00:00",
          "2020-05-03T00:00:00",
          "2020-05-10T00:00:00",
          "2020-05-17T00:00:00",
          "2020-05-24T00:00:00",
          "2020-05-31T00:00:00",
          "2020-06-07T00:00:00",
          "2020-06-14T00:00:00",
          "2020-06-21T00:00:00",
          "2020-06-28T00:00:00",
          "2020-07-05T00:00:00"
         ],
         "y": [
          378.7065782851441,
          634.0234048259348,
          871.0528847887331,
          1104.9798858083361,
          1345.5932417830795,
          1668.5613104119761,
          1821.5001060571146,
          2061.007122049257,
          2315.861680610985,
          2572.176228496208,
          2841.8153860586513,
          3101.865830476741,
          3361.9999277319266,
          3623.8754397212037,
          3888.395200612526,
          4154.159548764443,
          4411.644330759189,
          4674.21670596383,
          4936.412379067353,
          5198.55768822408,
          5464.881837246994,
          5735.09969630204,
          5993.252937658653,
          6241.683758559043,
          6510.6758251498195,
          6770.614695622506,
          7032.9222995385935
         ]
        },
        {
         "name": "trend",
         "type": "scatter",
         "x": [
          "2020-01-05T00:00:00",
          "2020-01-12T00:00:00",
          "2020-01-19T00:00:00",
          "2020-01-26T00:00:00",
          "2020-02-02T00:00:00",
          "2020-02-09T00:00:00",
          "2020-02-16T00:00:00",
          "2020-02-23T00:00:00",
          "2020-03-01T00:00:00",
          "2020-03-08T00:00:00",
          "2020-03-15T00:00:00",
          "2020-03-22T00:00:00",
          "2020-03-29T00:00:00",
          "2020-04-05T00:00:00",
          "2020-04-12T00:00:00",
          "2020-04-19T00:00:00",
          "2020-04-26T00:00:00",
          "2020-05-03T00:00:00",
          "2020-05-10T00:00:00",
          "2020-05-17T00:00:00",
          "2020-05-24T00:00:00",
          "2020-05-31T00:00:00",
          "2020-06-07T00:00:00",
          "2020-06-14T00:00:00",
          "2020-06-21T00:00:00",
          "2020-06-28T00:00:00",
          "2020-07-05T00:00:00"
         ],
         "y": [
          536.4159256060391,
          776.2004404257383,
          1015.9849562437306,
          1255.7694721311393,
          1495.5539914073108,
          1735.338590208236,
          1975.1306820020166,
          2215.020291650242,
          2455.0836062833287,
          2718.9370817819913,
          2983.0358792633037,
          3247.1425857883964,
          3511.2492923134882,
          3775.35599883858,
          4039.462705363672,
          4303.569411888764,
          4567.676118413857,
          4831.782824938949,
          5095.88953146404,
          5359.996237989132,
          5624.102944514225,
          5888.209651039317,
          6152.316357564409,
          6416.423064089501,
          6680.529770614594,
          6944.636477139686,
          7208.7431836647775
         ]
        }
       ],
       "layout": {
        "template": {
         "data": {
          "bar": [
           {
            "error_x": {
             "color": "#2a3f5f"
            },
            "error_y": {
             "color": "#2a3f5f"
            },
            "marker": {
             "line": {
              "color": "#E5ECF6",
              "width": 0.5
             },
             "pattern": {
              "fillmode": "overlay",
              "size": 10,
              "solidity": 0.2
             }
            },
            "type": "bar"
           }
          ],
          "barpolar": [
           {
            "marker": {
             "line": {
              "color": "#E5ECF6",
              "width": 0.5
             },
             "pattern": {
              "fillmode": "overlay",
              "size": 10,
              "solidity": 0.2
             }
            },
            "type": "barpolar"
           }
          ],
          "carpet": [
           {
            "aaxis": {
             "endlinecolor": "#2a3f5f",
             "gridcolor": "white",
             "linecolor": "white",
             "minorgridcolor": "white",
             "startlinecolor": "#2a3f5f"
            },
            "baxis": {
             "endlinecolor": "#2a3f5f",
             "gridcolor": "white",
             "linecolor": "white",
             "minorgridcolor": "white",
             "startlinecolor": "#2a3f5f"
            },
            "type": "carpet"
           }
          ],
          "choropleth": [
           {
            "colorbar": {
             "outlinewidth": 0,
             "ticks": ""
            },
            "type": "choropleth"
           }
          ],
          "contour": [
           {
            "colorbar": {
             "outlinewidth": 0,
             "ticks": ""
            },
            "colorscale": [
             [
              0,
              "#0d0887"
             ],
             [
              0.1111111111111111,
              "#46039f"
             ],
             [
              0.2222222222222222,
              "#7201a8"
             ],
             [
              0.3333333333333333,
              "#9c179e"
             ],
             [
              0.4444444444444444,
              "#bd3786"
             ],
             [
              0.5555555555555556,
              "#d8576b"
             ],
             [
              0.6666666666666666,
              "#ed7953"
             ],
             [
              0.7777777777777778,
              "#fb9f3a"
             ],
             [
              0.8888888888888888,
              "#fdca26"
             ],
             [
              1,
              "#f0f921"
             ]
            ],
            "type": "contour"
           }
          ],
          "contourcarpet": [
           {
            "colorbar": {
             "outlinewidth": 0,
             "ticks": ""
            },
            "type": "contourcarpet"
           }
          ],
          "heatmap": [
           {
            "colorbar": {
             "outlinewidth": 0,
             "ticks": ""
            },
            "colorscale": [
             [
              0,
              "#0d0887"
             ],
             [
              0.1111111111111111,
              "#46039f"
             ],
             [
              0.2222222222222222,
              "#7201a8"
             ],
             [
              0.3333333333333333,
              "#9c179e"
             ],
             [
              0.4444444444444444,
              "#bd3786"
             ],
             [
              0.5555555555555556,
              "#d8576b"
             ],
             [
              0.6666666666666666,
              "#ed7953"
             ],
             [
              0.7777777777777778,
              "#fb9f3a"
             ],
             [
              0.8888888888888888,
              "#fdca26"
             ],
             [
              1,
              "#f0f921"
             ]
            ],
            "type": "heatmap"
           }
          ],
          "heatmapgl": [
           {
            "colorbar": {
             "outlinewidth": 0,
             "ticks": ""
            },
            "colorscale": [
             [
              0,
              "#0d0887"
             ],
             [
              0.1111111111111111,
              "#46039f"
             ],
             [
              0.2222222222222222,
              "#7201a8"
             ],
             [
              0.3333333333333333,
              "#9c179e"
             ],
             [
              0.4444444444444444,
              "#bd3786"
             ],
             [
              0.5555555555555556,
              "#d8576b"
             ],
             [
              0.6666666666666666,
              "#ed7953"
             ],
             [
              0.7777777777777778,
              "#fb9f3a"
             ],
             [
              0.8888888888888888,
              "#fdca26"
             ],
             [
              1,
              "#f0f921"
             ]
            ],
            "type": "heatmapgl"
           }
          ],
          "histogram": [
           {
            "marker": {
             "pattern": {
              "fillmode": "overlay",
              "size": 10,
              "solidity": 0.2
             }
            },
            "type": "histogram"
           }
          ],
          "histogram2d": [
           {
            "colorbar": {
             "outlinewidth": 0,
             "ticks": ""
            },
            "colorscale": [
             [
              0,
              "#0d0887"
             ],
             [
              0.1111111111111111,
              "#46039f"
             ],
             [
              0.2222222222222222,
              "#7201a8"
             ],
             [
              0.3333333333333333,
              "#9c179e"
             ],
             [
              0.4444444444444444,
              "#bd3786"
             ],
             [
              0.5555555555555556,
              "#d8576b"
             ],
             [
              0.6666666666666666,
              "#ed7953"
             ],
             [
              0.7777777777777778,
              "#fb9f3a"
             ],
             [
              0.8888888888888888,
              "#fdca26"
             ],
             [
              1,
              "#f0f921"
             ]
            ],
            "type": "histogram2d"
           }
          ],
          "histogram2dcontour": [
           {
            "colorbar": {
             "outlinewidth": 0,
             "ticks": ""
            },
            "colorscale": [
             [
              0,
              "#0d0887"
             ],
             [
              0.1111111111111111,
              "#46039f"
             ],
             [
              0.2222222222222222,
              "#7201a8"
             ],
             [
              0.3333333333333333,
              "#9c179e"
             ],
             [
              0.4444444444444444,
              "#bd3786"
             ],
             [
              0.5555555555555556,
              "#d8576b"
             ],
             [
              0.6666666666666666,
              "#ed7953"
             ],
             [
              0.7777777777777778,
              "#fb9f3a"
             ],
             [
              0.8888888888888888,
              "#fdca26"
             ],
             [
              1,
              "#f0f921"
             ]
            ],
            "type": "histogram2dcontour"
           }
          ],
          "mesh3d": [
           {
            "colorbar": {
             "outlinewidth": 0,
             "ticks": ""
            },
            "type": "mesh3d"
           }
          ],
          "parcoords": [
           {
            "line": {
             "colorbar": {
              "outlinewidth": 0,
              "ticks": ""
             }
            },
            "type": "parcoords"
           }
          ],
          "pie": [
           {
            "automargin": true,
            "type": "pie"
           }
          ],
          "scatter": [
           {
            "marker": {
             "colorbar": {
              "outlinewidth": 0,
              "ticks": ""
             }
            },
            "type": "scatter"
           }
          ],
          "scatter3d": [
           {
            "line": {
             "colorbar": {
              "outlinewidth": 0,
              "ticks": ""
             }
            },
            "marker": {
             "colorbar": {
              "outlinewidth": 0,
              "ticks": ""
             }
            },
            "type": "scatter3d"
           }
          ],
          "scattercarpet": [
           {
            "marker": {
             "colorbar": {
              "outlinewidth": 0,
              "ticks": ""
             }
            },
            "type": "scattercarpet"
           }
          ],
          "scattergeo": [
           {
            "marker": {
             "colorbar": {
              "outlinewidth": 0,
              "ticks": ""
             }
            },
            "type": "scattergeo"
           }
          ],
          "scattergl": [
           {
            "marker": {
             "colorbar": {
              "outlinewidth": 0,
              "ticks": ""
             }
            },
            "type": "scattergl"
           }
          ],
          "scattermapbox": [
           {
            "marker": {
             "colorbar": {
              "outlinewidth": 0,
              "ticks": ""
             }
            },
            "type": "scattermapbox"
           }
          ],
          "scatterpolar": [
           {
            "marker": {
             "colorbar": {
              "outlinewidth": 0,
              "ticks": ""
             }
            },
            "type": "scatterpolar"
           }
          ],
          "scatterpolargl": [
           {
            "marker": {
             "colorbar": {
              "outlinewidth": 0,
              "ticks": ""
             }
            },
            "type": "scatterpolargl"
           }
          ],
          "scatterternary": [
           {
            "marker": {
             "colorbar": {
              "outlinewidth": 0,
              "ticks": ""
             }
            },
            "type": "scatterternary"
           }
          ],
          "surface": [
           {
            "colorbar": {
             "outlinewidth": 0,
             "ticks": ""
            },
            "colorscale": [
             [
              0,
              "#0d0887"
             ],
             [
              0.1111111111111111,
              "#46039f"
             ],
             [
              0.2222222222222222,
              "#7201a8"
             ],
             [
              0.3333333333333333,
              "#9c179e"
             ],
             [
              0.4444444444444444,
              "#bd3786"
             ],
             [
              0.5555555555555556,
              "#d8576b"
             ],
             [
              0.6666666666666666,
              "#ed7953"
             ],
             [
              0.7777777777777778,
              "#fb9f3a"
             ],
             [
              0.8888888888888888,
              "#fdca26"
             ],
             [
              1,
              "#f0f921"
             ]
            ],
            "type": "surface"
           }
          ],
          "table": [
           {
            "cells": {
             "fill": {
              "color": "#EBF0F8"
             },
             "line": {
              "color": "white"
             }
            },
            "header": {
             "fill": {
              "color": "#C8D4E3"
             },
             "line": {
              "color": "white"
             }
            },
            "type": "table"
           }
          ]
         },
         "layout": {
          "annotationdefaults": {
           "arrowcolor": "#2a3f5f",
           "arrowhead": 0,
           "arrowwidth": 1
          },
          "autotypenumbers": "strict",
          "coloraxis": {
           "colorbar": {
            "outlinewidth": 0,
            "ticks": ""
           }
          },
          "colorscale": {
           "diverging": [
            [
             0,
             "#8e0152"
            ],
            [
             0.1,
             "#c51b7d"
            ],
            [
             0.2,
             "#de77ae"
            ],
            [
             0.3,
             "#f1b6da"
            ],
            [
             0.4,
             "#fde0ef"
            ],
            [
             0.5,
             "#f7f7f7"
            ],
            [
             0.6,
             "#e6f5d0"
            ],
            [
             0.7,
             "#b8e186"
            ],
            [
             0.8,
             "#7fbc41"
            ],
            [
             0.9,
             "#4d9221"
            ],
            [
             1,
             "#276419"
            ]
           ],
           "sequential": [
            [
             0,
             "#0d0887"
            ],
            [
             0.1111111111111111,
             "#46039f"
            ],
            [
             0.2222222222222222,
             "#7201a8"
            ],
            [
             0.3333333333333333,
             "#9c179e"
            ],
            [
             0.4444444444444444,
             "#bd3786"
            ],
            [
             0.5555555555555556,
             "#d8576b"
            ],
            [
             0.6666666666666666,
             "#ed7953"
            ],
            [
             0.7777777777777778,
             "#fb9f3a"
            ],
            [
             0.8888888888888888,
             "#fdca26"
            ],
            [
             1,
             "#f0f921"
            ]
           ],
           "sequentialminus": [
            [
             0,
             "#0d0887"
            ],
            [
             0.1111111111111111,
             "#46039f"
            ],
            [
             0.2222222222222222,
             "#7201a8"
            ],
            [
             0.3333333333333333,
             "#9c179e"
            ],
            [
             0.4444444444444444,
             "#bd3786"
            ],
            [
             0.5555555555555556,
             "#d8576b"
            ],
            [
             0.6666666666666666,
             "#ed7953"
            ],
            [
             0.7777777777777778,
             "#fb9f3a"
            ],
            [
             0.8888888888888888,
             "#fdca26"
            ],
            [
             1,
             "#f0f921"
            ]
           ]
          },
          "colorway": [
           "#636efa",
           "#EF553B",
           "#00cc96",
           "#ab63fa",
           "#FFA15A",
           "#19d3f3",
           "#FF6692",
           "#B6E880",
           "#FF97FF",
           "#FECB52"
          ],
          "font": {
           "color": "#2a3f5f"
          },
          "geo": {
           "bgcolor": "white",
           "lakecolor": "white",
           "landcolor": "#E5ECF6",
           "showlakes": true,
           "showland": true,
           "subunitcolor": "white"
          },
          "hoverlabel": {
           "align": "left"
          },
          "hovermode": "closest",
          "mapbox": {
           "style": "light"
          },
          "paper_bgcolor": "white",
          "plot_bgcolor": "#E5ECF6",
          "polar": {
           "angularaxis": {
            "gridcolor": "white",
            "linecolor": "white",
            "ticks": ""
           },
           "bgcolor": "#E5ECF6",
           "radialaxis": {
            "gridcolor": "white",
            "linecolor": "white",
            "ticks": ""
           }
          },
          "scene": {
           "xaxis": {
            "backgroundcolor": "#E5ECF6",
            "gridcolor": "white",
            "gridwidth": 2,
            "linecolor": "white",
            "showbackground": true,
            "ticks": "",
            "zerolinecolor": "white"
           },
           "yaxis": {
            "backgroundcolor": "#E5ECF6",
            "gridcolor": "white",
            "gridwidth": 2,
            "linecolor": "white",
            "showbackground": true,
            "ticks": "",
            "zerolinecolor": "white"
           },
           "zaxis": {
            "backgroundcolor": "#E5ECF6",
            "gridcolor": "white",
            "gridwidth": 2,
            "linecolor": "white",
            "showbackground": true,
            "ticks": "",
            "zerolinecolor": "white"
           }
          },
          "shapedefaults": {
           "line": {
            "color": "#2a3f5f"
           }
          },
          "ternary": {
           "aaxis": {
            "gridcolor": "white",
            "linecolor": "white",
            "ticks": ""
           },
           "baxis": {
            "gridcolor": "white",
            "linecolor": "white",
            "ticks": ""
           },
           "bgcolor": "#E5ECF6",
           "caxis": {
            "gridcolor": "white",
            "linecolor": "white",
            "ticks": ""
           }
          },
          "title": {
           "x": 0.05
          },
          "xaxis": {
           "automargin": true,
           "gridcolor": "white",
           "linecolor": "white",
           "ticks": "",
           "title": {
            "standoff": 15
           },
           "zerolinecolor": "white",
           "zerolinewidth": 2
          },
          "yaxis": {
           "automargin": true,
           "gridcolor": "white",
           "linecolor": "white",
           "ticks": "",
           "title": {
            "standoff": 15
           },
           "zerolinecolor": "white",
           "zerolinewidth": 2
          }
         }
        }
       }
      },
      "text/html": [
       "<div>                            <div id=\"50f3a38f-c0af-4603-b3d9-9ef614cfc264\" class=\"plotly-graph-div\" style=\"height:525px; width:100%;\"></div>            <script type=\"text/javascript\">                require([\"plotly\"], function(Plotly) {                    window.PLOTLYENV=window.PLOTLYENV || {};                                    if (document.getElementById(\"50f3a38f-c0af-4603-b3d9-9ef614cfc264\")) {                    Plotly.newPlot(                        \"50f3a38f-c0af-4603-b3d9-9ef614cfc264\",                        [{\"name\":\"fact\",\"type\":\"scatter\",\"x\":[\"2020-01-05T00:00:00\",\"2020-01-12T00:00:00\",\"2020-01-19T00:00:00\",\"2020-01-26T00:00:00\",\"2020-02-02T00:00:00\",\"2020-02-09T00:00:00\",\"2020-02-16T00:00:00\",\"2020-02-23T00:00:00\",\"2020-03-01T00:00:00\",\"2020-03-08T00:00:00\",\"2020-03-15T00:00:00\",\"2020-03-22T00:00:00\",\"2020-03-29T00:00:00\",\"2020-04-05T00:00:00\"],\"y\":[650,837,1020,1176,1489,1823,1991,2166,2334,2607,2734,3492,3608,3857]},{\"name\":\"prediction\",\"type\":\"scatter\",\"x\":[\"2020-01-05T00:00:00\",\"2020-01-12T00:00:00\",\"2020-01-19T00:00:00\",\"2020-01-26T00:00:00\",\"2020-02-02T00:00:00\",\"2020-02-09T00:00:00\",\"2020-02-16T00:00:00\",\"2020-02-23T00:00:00\",\"2020-03-01T00:00:00\",\"2020-03-08T00:00:00\",\"2020-03-15T00:00:00\",\"2020-03-22T00:00:00\",\"2020-03-29T00:00:00\",\"2020-04-05T00:00:00\",\"2020-04-12T00:00:00\",\"2020-04-19T00:00:00\",\"2020-04-26T00:00:00\",\"2020-05-03T00:00:00\",\"2020-05-10T00:00:00\",\"2020-05-17T00:00:00\",\"2020-05-24T00:00:00\",\"2020-05-31T00:00:00\",\"2020-06-07T00:00:00\",\"2020-06-14T00:00:00\",\"2020-06-21T00:00:00\",\"2020-06-28T00:00:00\",\"2020-07-05T00:00:00\"],\"y\":[536.4159256060391,776.2004404257383,1015.9849562437306,1255.7694721311393,1495.5539914073108,1823.0281682306656,1975.1306820020166,2215.020291650242,2455.0836062833287,2718.9370817819913,2983.0358792633037,3247.1425857883964,3511.2492923134882,3775.35599883858,4039.462705363672,4303.569411888764,4567.676118413857,4831.782824938949,5095.88953146404,5359.996237989132,5624.102944514225,5888.209651039317,6152.316357564409,6416.423064089501,6680.529770614594,6944.636477139686,7208.7431836647775]},{\"fill\":\"tonexty\",\"mode\":\"none\",\"name\":\"upper\",\"type\":\"scatter\",\"x\":[\"2020-01-05T00:00:00\",\"2020-01-12T00:00:00\",\"2020-01-19T00:00:00\",\"2020-01-26T00:00:00\",\"2020-02-02T00:00:00\",\"2020-02-09T00:00:00\",\"2020-02-16T00:00:00\",\"2020-02-23T00:00:00\",\"2020-03-01T00:00:00\",\"2020-03-08T00:00:00\",\"2020-03-15T00:00:00\",\"2020-03-22T00:00:00\",\"2020-03-29T00:00:00\",\"2020-04-05T00:00:00\",\"2020-04-12T00:00:00\",\"2020-04-19T00:00:00\",\"2020-04-26T00:00:00\",\"2020-05-03T00:00:00\",\"2020-05-10T00:00:00\",\"2020-05-17T00:00:00\",\"2020-05-24T00:00:00\",\"2020-05-31T00:00:00\",\"2020-06-07T00:00:00\",\"2020-06-14T00:00:00\",\"2020-06-21T00:00:00\",\"2020-06-28T00:00:00\",\"2020-07-05T00:00:00\"],\"y\":[693.6603148710605,932.801943584922,1165.2874476370691,1403.7187319632076,1638.225155899855,1978.6534391240639,2122.606404280046,2369.474148952161,2609.4240153071373,2861.4647701832932,3134.05845208755,3393.30611861308,3663.352575633084,3926.879795415045,4193.831002704854,4454.704679769749,4715.713002697322,4982.159936798898,5248.177947731684,5515.166222040994,5773.03966191107,6048.915977188017,6304.394752316982,6584.086152082175,6835.740101814974,7113.237195916789,7390.389490872659]},{\"fill\":\"tonexty\",\"mode\":\"none\",\"name\":\"lower\",\"type\":\"scatter\",\"x\":[\"2020-01-05T00:00:00\",\"2020-01-12T00:00:00\",\"2020-01-19T00:00:00\",\"2020-01-26T00:00:00\",\"2020-02-02T00:00:00\",\"2020-02-09T00:00:00\",\"2020-02-16T00:00:00\",\"2020-02-23T00:00:00\",\"2020-03-01T00:00:00\",\"2020-03-08T00:00:00\",\"2020-03-15T00:00:00\",\"2020-03-22T00:00:00\",\"2020-03-29T00:00:00\",\"2020-04-05T00:00:00\",\"2020-04-12T00:00:00\",\"2020-04-19T00:00:00\",\"2020-04-26T00:00:00\",\"2020-05-03T00:00:00\",\"2020-05-10T00:00:00\",\"2020-05-17T00:00:00\",\"2020-05-24T00:00:00\",\"2020-05-31T00:00:00\",\"2020-06-07T00:00:00\",\"2020-06-14T00:00:00\",\"2020-06-21T00:00:00\",\"2020-06-28T00:00:00\",\"2020-07-05T00:00:00\"],\"y\":[378.7065782851441,634.0234048259348,871.0528847887331,1104.9798858083361,1345.5932417830795,1668.5613104119761,1821.5001060571146,2061.007122049257,2315.861680610985,2572.176228496208,2841.8153860586513,3101.865830476741,3361.9999277319266,3623.8754397212037,3888.395200612526,4154.159548764443,4411.644330759189,4674.21670596383,4936.412379067353,5198.55768822408,5464.881837246994,5735.09969630204,5993.252937658653,6241.683758559043,6510.6758251498195,6770.614695622506,7032.9222995385935]},{\"name\":\"trend\",\"type\":\"scatter\",\"x\":[\"2020-01-05T00:00:00\",\"2020-01-12T00:00:00\",\"2020-01-19T00:00:00\",\"2020-01-26T00:00:00\",\"2020-02-02T00:00:00\",\"2020-02-09T00:00:00\",\"2020-02-16T00:00:00\",\"2020-02-23T00:00:00\",\"2020-03-01T00:00:00\",\"2020-03-08T00:00:00\",\"2020-03-15T00:00:00\",\"2020-03-22T00:00:00\",\"2020-03-29T00:00:00\",\"2020-04-05T00:00:00\",\"2020-04-12T00:00:00\",\"2020-04-19T00:00:00\",\"2020-04-26T00:00:00\",\"2020-05-03T00:00:00\",\"2020-05-10T00:00:00\",\"2020-05-17T00:00:00\",\"2020-05-24T00:00:00\",\"2020-05-31T00:00:00\",\"2020-06-07T00:00:00\",\"2020-06-14T00:00:00\",\"2020-06-21T00:00:00\",\"2020-06-28T00:00:00\",\"2020-07-05T00:00:00\"],\"y\":[536.4159256060391,776.2004404257383,1015.9849562437306,1255.7694721311393,1495.5539914073108,1735.338590208236,1975.1306820020166,2215.020291650242,2455.0836062833287,2718.9370817819913,2983.0358792633037,3247.1425857883964,3511.2492923134882,3775.35599883858,4039.462705363672,4303.569411888764,4567.676118413857,4831.782824938949,5095.88953146404,5359.996237989132,5624.102944514225,5888.209651039317,6152.316357564409,6416.423064089501,6680.529770614594,6944.636477139686,7208.7431836647775]}],                        {\"template\":{\"data\":{\"bar\":[{\"error_x\":{\"color\":\"#2a3f5f\"},\"error_y\":{\"color\":\"#2a3f5f\"},\"marker\":{\"line\":{\"color\":\"#E5ECF6\",\"width\":0.5},\"pattern\":{\"fillmode\":\"overlay\",\"size\":10,\"solidity\":0.2}},\"type\":\"bar\"}],\"barpolar\":[{\"marker\":{\"line\":{\"color\":\"#E5ECF6\",\"width\":0.5},\"pattern\":{\"fillmode\":\"overlay\",\"size\":10,\"solidity\":0.2}},\"type\":\"barpolar\"}],\"carpet\":[{\"aaxis\":{\"endlinecolor\":\"#2a3f5f\",\"gridcolor\":\"white\",\"linecolor\":\"white\",\"minorgridcolor\":\"white\",\"startlinecolor\":\"#2a3f5f\"},\"baxis\":{\"endlinecolor\":\"#2a3f5f\",\"gridcolor\":\"white\",\"linecolor\":\"white\",\"minorgridcolor\":\"white\",\"startlinecolor\":\"#2a3f5f\"},\"type\":\"carpet\"}],\"choropleth\":[{\"colorbar\":{\"outlinewidth\":0,\"ticks\":\"\"},\"type\":\"choropleth\"}],\"contour\":[{\"colorbar\":{\"outlinewidth\":0,\"ticks\":\"\"},\"colorscale\":[[0.0,\"#0d0887\"],[0.1111111111111111,\"#46039f\"],[0.2222222222222222,\"#7201a8\"],[0.3333333333333333,\"#9c179e\"],[0.4444444444444444,\"#bd3786\"],[0.5555555555555556,\"#d8576b\"],[0.6666666666666666,\"#ed7953\"],[0.7777777777777778,\"#fb9f3a\"],[0.8888888888888888,\"#fdca26\"],[1.0,\"#f0f921\"]],\"type\":\"contour\"}],\"contourcarpet\":[{\"colorbar\":{\"outlinewidth\":0,\"ticks\":\"\"},\"type\":\"contourcarpet\"}],\"heatmap\":[{\"colorbar\":{\"outlinewidth\":0,\"ticks\":\"\"},\"colorscale\":[[0.0,\"#0d0887\"],[0.1111111111111111,\"#46039f\"],[0.2222222222222222,\"#7201a8\"],[0.3333333333333333,\"#9c179e\"],[0.4444444444444444,\"#bd3786\"],[0.5555555555555556,\"#d8576b\"],[0.6666666666666666,\"#ed7953\"],[0.7777777777777778,\"#fb9f3a\"],[0.8888888888888888,\"#fdca26\"],[1.0,\"#f0f921\"]],\"type\":\"heatmap\"}],\"heatmapgl\":[{\"colorbar\":{\"outlinewidth\":0,\"ticks\":\"\"},\"colorscale\":[[0.0,\"#0d0887\"],[0.1111111111111111,\"#46039f\"],[0.2222222222222222,\"#7201a8\"],[0.3333333333333333,\"#9c179e\"],[0.4444444444444444,\"#bd3786\"],[0.5555555555555556,\"#d8576b\"],[0.6666666666666666,\"#ed7953\"],[0.7777777777777778,\"#fb9f3a\"],[0.8888888888888888,\"#fdca26\"],[1.0,\"#f0f921\"]],\"type\":\"heatmapgl\"}],\"histogram\":[{\"marker\":{\"pattern\":{\"fillmode\":\"overlay\",\"size\":10,\"solidity\":0.2}},\"type\":\"histogram\"}],\"histogram2d\":[{\"colorbar\":{\"outlinewidth\":0,\"ticks\":\"\"},\"colorscale\":[[0.0,\"#0d0887\"],[0.1111111111111111,\"#46039f\"],[0.2222222222222222,\"#7201a8\"],[0.3333333333333333,\"#9c179e\"],[0.4444444444444444,\"#bd3786\"],[0.5555555555555556,\"#d8576b\"],[0.6666666666666666,\"#ed7953\"],[0.7777777777777778,\"#fb9f3a\"],[0.8888888888888888,\"#fdca26\"],[1.0,\"#f0f921\"]],\"type\":\"histogram2d\"}],\"histogram2dcontour\":[{\"colorbar\":{\"outlinewidth\":0,\"ticks\":\"\"},\"colorscale\":[[0.0,\"#0d0887\"],[0.1111111111111111,\"#46039f\"],[0.2222222222222222,\"#7201a8\"],[0.3333333333333333,\"#9c179e\"],[0.4444444444444444,\"#bd3786\"],[0.5555555555555556,\"#d8576b\"],[0.6666666666666666,\"#ed7953\"],[0.7777777777777778,\"#fb9f3a\"],[0.8888888888888888,\"#fdca26\"],[1.0,\"#f0f921\"]],\"type\":\"histogram2dcontour\"}],\"mesh3d\":[{\"colorbar\":{\"outlinewidth\":0,\"ticks\":\"\"},\"type\":\"mesh3d\"}],\"parcoords\":[{\"line\":{\"colorbar\":{\"outlinewidth\":0,\"ticks\":\"\"}},\"type\":\"parcoords\"}],\"pie\":[{\"automargin\":true,\"type\":\"pie\"}],\"scatter\":[{\"marker\":{\"colorbar\":{\"outlinewidth\":0,\"ticks\":\"\"}},\"type\":\"scatter\"}],\"scatter3d\":[{\"line\":{\"colorbar\":{\"outlinewidth\":0,\"ticks\":\"\"}},\"marker\":{\"colorbar\":{\"outlinewidth\":0,\"ticks\":\"\"}},\"type\":\"scatter3d\"}],\"scattercarpet\":[{\"marker\":{\"colorbar\":{\"outlinewidth\":0,\"ticks\":\"\"}},\"type\":\"scattercarpet\"}],\"scattergeo\":[{\"marker\":{\"colorbar\":{\"outlinewidth\":0,\"ticks\":\"\"}},\"type\":\"scattergeo\"}],\"scattergl\":[{\"marker\":{\"colorbar\":{\"outlinewidth\":0,\"ticks\":\"\"}},\"type\":\"scattergl\"}],\"scattermapbox\":[{\"marker\":{\"colorbar\":{\"outlinewidth\":0,\"ticks\":\"\"}},\"type\":\"scattermapbox\"}],\"scatterpolar\":[{\"marker\":{\"colorbar\":{\"outlinewidth\":0,\"ticks\":\"\"}},\"type\":\"scatterpolar\"}],\"scatterpolargl\":[{\"marker\":{\"colorbar\":{\"outlinewidth\":0,\"ticks\":\"\"}},\"type\":\"scatterpolargl\"}],\"scatterternary\":[{\"marker\":{\"colorbar\":{\"outlinewidth\":0,\"ticks\":\"\"}},\"type\":\"scatterternary\"}],\"surface\":[{\"colorbar\":{\"outlinewidth\":0,\"ticks\":\"\"},\"colorscale\":[[0.0,\"#0d0887\"],[0.1111111111111111,\"#46039f\"],[0.2222222222222222,\"#7201a8\"],[0.3333333333333333,\"#9c179e\"],[0.4444444444444444,\"#bd3786\"],[0.5555555555555556,\"#d8576b\"],[0.6666666666666666,\"#ed7953\"],[0.7777777777777778,\"#fb9f3a\"],[0.8888888888888888,\"#fdca26\"],[1.0,\"#f0f921\"]],\"type\":\"surface\"}],\"table\":[{\"cells\":{\"fill\":{\"color\":\"#EBF0F8\"},\"line\":{\"color\":\"white\"}},\"header\":{\"fill\":{\"color\":\"#C8D4E3\"},\"line\":{\"color\":\"white\"}},\"type\":\"table\"}]},\"layout\":{\"annotationdefaults\":{\"arrowcolor\":\"#2a3f5f\",\"arrowhead\":0,\"arrowwidth\":1},\"autotypenumbers\":\"strict\",\"coloraxis\":{\"colorbar\":{\"outlinewidth\":0,\"ticks\":\"\"}},\"colorscale\":{\"diverging\":[[0,\"#8e0152\"],[0.1,\"#c51b7d\"],[0.2,\"#de77ae\"],[0.3,\"#f1b6da\"],[0.4,\"#fde0ef\"],[0.5,\"#f7f7f7\"],[0.6,\"#e6f5d0\"],[0.7,\"#b8e186\"],[0.8,\"#7fbc41\"],[0.9,\"#4d9221\"],[1,\"#276419\"]],\"sequential\":[[0.0,\"#0d0887\"],[0.1111111111111111,\"#46039f\"],[0.2222222222222222,\"#7201a8\"],[0.3333333333333333,\"#9c179e\"],[0.4444444444444444,\"#bd3786\"],[0.5555555555555556,\"#d8576b\"],[0.6666666666666666,\"#ed7953\"],[0.7777777777777778,\"#fb9f3a\"],[0.8888888888888888,\"#fdca26\"],[1.0,\"#f0f921\"]],\"sequentialminus\":[[0.0,\"#0d0887\"],[0.1111111111111111,\"#46039f\"],[0.2222222222222222,\"#7201a8\"],[0.3333333333333333,\"#9c179e\"],[0.4444444444444444,\"#bd3786\"],[0.5555555555555556,\"#d8576b\"],[0.6666666666666666,\"#ed7953\"],[0.7777777777777778,\"#fb9f3a\"],[0.8888888888888888,\"#fdca26\"],[1.0,\"#f0f921\"]]},\"colorway\":[\"#636efa\",\"#EF553B\",\"#00cc96\",\"#ab63fa\",\"#FFA15A\",\"#19d3f3\",\"#FF6692\",\"#B6E880\",\"#FF97FF\",\"#FECB52\"],\"font\":{\"color\":\"#2a3f5f\"},\"geo\":{\"bgcolor\":\"white\",\"lakecolor\":\"white\",\"landcolor\":\"#E5ECF6\",\"showlakes\":true,\"showland\":true,\"subunitcolor\":\"white\"},\"hoverlabel\":{\"align\":\"left\"},\"hovermode\":\"closest\",\"mapbox\":{\"style\":\"light\"},\"paper_bgcolor\":\"white\",\"plot_bgcolor\":\"#E5ECF6\",\"polar\":{\"angularaxis\":{\"gridcolor\":\"white\",\"linecolor\":\"white\",\"ticks\":\"\"},\"bgcolor\":\"#E5ECF6\",\"radialaxis\":{\"gridcolor\":\"white\",\"linecolor\":\"white\",\"ticks\":\"\"}},\"scene\":{\"xaxis\":{\"backgroundcolor\":\"#E5ECF6\",\"gridcolor\":\"white\",\"gridwidth\":2,\"linecolor\":\"white\",\"showbackground\":true,\"ticks\":\"\",\"zerolinecolor\":\"white\"},\"yaxis\":{\"backgroundcolor\":\"#E5ECF6\",\"gridcolor\":\"white\",\"gridwidth\":2,\"linecolor\":\"white\",\"showbackground\":true,\"ticks\":\"\",\"zerolinecolor\":\"white\"},\"zaxis\":{\"backgroundcolor\":\"#E5ECF6\",\"gridcolor\":\"white\",\"gridwidth\":2,\"linecolor\":\"white\",\"showbackground\":true,\"ticks\":\"\",\"zerolinecolor\":\"white\"}},\"shapedefaults\":{\"line\":{\"color\":\"#2a3f5f\"}},\"ternary\":{\"aaxis\":{\"gridcolor\":\"white\",\"linecolor\":\"white\",\"ticks\":\"\"},\"baxis\":{\"gridcolor\":\"white\",\"linecolor\":\"white\",\"ticks\":\"\"},\"bgcolor\":\"#E5ECF6\",\"caxis\":{\"gridcolor\":\"white\",\"linecolor\":\"white\",\"ticks\":\"\"}},\"title\":{\"x\":0.05},\"xaxis\":{\"automargin\":true,\"gridcolor\":\"white\",\"linecolor\":\"white\",\"ticks\":\"\",\"title\":{\"standoff\":15},\"zerolinecolor\":\"white\",\"zerolinewidth\":2},\"yaxis\":{\"automargin\":true,\"gridcolor\":\"white\",\"linecolor\":\"white\",\"ticks\":\"\",\"title\":{\"standoff\":15},\"zerolinecolor\":\"white\",\"zerolinewidth\":2}}}},                        {\"responsive\": true}                    ).then(function(){\n",
       "                            \n",
       "var gd = document.getElementById('50f3a38f-c0af-4603-b3d9-9ef614cfc264');\n",
       "var x = new MutationObserver(function (mutations, observer) {{\n",
       "        var display = window.getComputedStyle(gd).display;\n",
       "        if (!display || display === 'none') {{\n",
       "            console.log([gd, 'removed!']);\n",
       "            Plotly.purge(gd);\n",
       "            observer.disconnect();\n",
       "        }}\n",
       "}});\n",
       "\n",
       "// Listen for the removal of the full notebook cells\n",
       "var notebookContainer = gd.closest('#notebook-container');\n",
       "if (notebookContainer) {{\n",
       "    x.observe(notebookContainer, {childList: true});\n",
       "}}\n",
       "\n",
       "// Listen for the clearing of the current output cell\n",
       "var outputEl = gd.closest('.output');\n",
       "if (outputEl) {{\n",
       "    x.observe(outputEl, {childList: true});\n",
       "}}\n",
       "\n",
       "                        })                };                });            </script>        </div>"
      ]
     },
     "metadata": {},
     "output_type": "display_data"
    }
   ],
   "source": [
    "iplot([\n",
    "    go.Scatter(x=df['ds'], y=df['y'], name='fact'),\n",
    "    go.Scatter(x=forecast['ds'], y=forecast['yhat'], name='prediction'),\n",
    "    go.Scatter(x=forecast['ds'], y=forecast['yhat_upper'], fill='tonexty', mode='none', name='upper'),\n",
    "    go.Scatter(x=forecast['ds'], y=forecast['yhat_lower'], fill='tonexty', mode='none', name='lower'),\n",
    "    go.Scatter(x=forecast['ds'], y=forecast['trend'], name='trend')\n",
    "])"
   ]
  },
  {
   "cell_type": "markdown",
   "metadata": {},
   "source": [
    "### Расчет средней ошибки модели предсказания"
   ]
  },
  {
   "cell_type": "code",
   "execution_count": 14,
   "metadata": {},
   "outputs": [
    {
     "name": "stdout",
     "output_type": "stream",
     "text": [
      "MAPE (средняя абсолютная ошибка в процентах) –  4.701271565783562 %\n",
      "MAE (средняя абсолютная ошибка) –  88.21061496642803\n"
     ]
    }
   ],
   "source": [
    "\n",
    "cmp_df = forecast.set_index('ds')[['yhat', 'yhat_lower', 'yhat_upper']].join(df.set_index('ds'))\n",
    "cmp_df['e'] = cmp_df['y'] - cmp_df['yhat']\n",
    "cmp_df['p'] = 100*cmp_df['e']/cmp_df['y']\n",
    "print('MAPE (средняя абсолютная ошибка в процентах) – ', np.mean(abs(cmp_df[:-predictions]['p'])),'%')\n",
    "print('MAE (средняя абсолютная ошибка) – ', np.mean(abs(cmp_df[:-predictions]['e'])))"
   ]
  },
  {
   "cell_type": "markdown",
   "metadata": {},
   "source": [
    "### Необходимые значения предсказаний на ближайшие 3 месяца"
   ]
  },
  {
   "cell_type": "code",
   "execution_count": 15,
   "metadata": {},
   "outputs": [
    {
     "data": {
      "text/html": [
       "<div>\n",
       "<style scoped>\n",
       "    .dataframe tbody tr th:only-of-type {\n",
       "        vertical-align: middle;\n",
       "    }\n",
       "\n",
       "    .dataframe tbody tr th {\n",
       "        vertical-align: top;\n",
       "    }\n",
       "\n",
       "    .dataframe thead th {\n",
       "        text-align: right;\n",
       "    }\n",
       "</style>\n",
       "<table border=\"1\" class=\"dataframe\">\n",
       "  <thead>\n",
       "    <tr style=\"text-align: right;\">\n",
       "      <th></th>\n",
       "      <th>ds</th>\n",
       "      <th>trend</th>\n",
       "      <th>yhat_lower</th>\n",
       "      <th>yhat_upper</th>\n",
       "    </tr>\n",
       "  </thead>\n",
       "  <tbody>\n",
       "    <tr>\n",
       "      <th>14</th>\n",
       "      <td>2020-04-12</td>\n",
       "      <td>4039.462705</td>\n",
       "      <td>3888.395201</td>\n",
       "      <td>4193.831003</td>\n",
       "    </tr>\n",
       "    <tr>\n",
       "      <th>15</th>\n",
       "      <td>2020-04-19</td>\n",
       "      <td>4303.569412</td>\n",
       "      <td>4154.159549</td>\n",
       "      <td>4454.704680</td>\n",
       "    </tr>\n",
       "    <tr>\n",
       "      <th>16</th>\n",
       "      <td>2020-04-26</td>\n",
       "      <td>4567.676118</td>\n",
       "      <td>4411.644331</td>\n",
       "      <td>4715.713003</td>\n",
       "    </tr>\n",
       "    <tr>\n",
       "      <th>17</th>\n",
       "      <td>2020-05-03</td>\n",
       "      <td>4831.782825</td>\n",
       "      <td>4674.216706</td>\n",
       "      <td>4982.159937</td>\n",
       "    </tr>\n",
       "    <tr>\n",
       "      <th>18</th>\n",
       "      <td>2020-05-10</td>\n",
       "      <td>5095.889531</td>\n",
       "      <td>4936.412379</td>\n",
       "      <td>5248.177948</td>\n",
       "    </tr>\n",
       "    <tr>\n",
       "      <th>19</th>\n",
       "      <td>2020-05-17</td>\n",
       "      <td>5359.996238</td>\n",
       "      <td>5198.557688</td>\n",
       "      <td>5515.166222</td>\n",
       "    </tr>\n",
       "    <tr>\n",
       "      <th>20</th>\n",
       "      <td>2020-05-24</td>\n",
       "      <td>5624.102945</td>\n",
       "      <td>5464.881837</td>\n",
       "      <td>5773.039662</td>\n",
       "    </tr>\n",
       "    <tr>\n",
       "      <th>21</th>\n",
       "      <td>2020-05-31</td>\n",
       "      <td>5888.209651</td>\n",
       "      <td>5735.099696</td>\n",
       "      <td>6048.915977</td>\n",
       "    </tr>\n",
       "    <tr>\n",
       "      <th>22</th>\n",
       "      <td>2020-06-07</td>\n",
       "      <td>6152.316358</td>\n",
       "      <td>5993.252938</td>\n",
       "      <td>6304.394752</td>\n",
       "    </tr>\n",
       "    <tr>\n",
       "      <th>23</th>\n",
       "      <td>2020-06-14</td>\n",
       "      <td>6416.423064</td>\n",
       "      <td>6241.683759</td>\n",
       "      <td>6584.086152</td>\n",
       "    </tr>\n",
       "    <tr>\n",
       "      <th>24</th>\n",
       "      <td>2020-06-21</td>\n",
       "      <td>6680.529771</td>\n",
       "      <td>6510.675825</td>\n",
       "      <td>6835.740102</td>\n",
       "    </tr>\n",
       "    <tr>\n",
       "      <th>25</th>\n",
       "      <td>2020-06-28</td>\n",
       "      <td>6944.636477</td>\n",
       "      <td>6770.614696</td>\n",
       "      <td>7113.237196</td>\n",
       "    </tr>\n",
       "    <tr>\n",
       "      <th>26</th>\n",
       "      <td>2020-07-05</td>\n",
       "      <td>7208.743184</td>\n",
       "      <td>7032.922300</td>\n",
       "      <td>7390.389491</td>\n",
       "    </tr>\n",
       "  </tbody>\n",
       "</table>\n",
       "</div>"
      ],
      "text/plain": [
       "           ds        trend   yhat_lower   yhat_upper\n",
       "14 2020-04-12  4039.462705  3888.395201  4193.831003\n",
       "15 2020-04-19  4303.569412  4154.159549  4454.704680\n",
       "16 2020-04-26  4567.676118  4411.644331  4715.713003\n",
       "17 2020-05-03  4831.782825  4674.216706  4982.159937\n",
       "18 2020-05-10  5095.889531  4936.412379  5248.177948\n",
       "19 2020-05-17  5359.996238  5198.557688  5515.166222\n",
       "20 2020-05-24  5624.102945  5464.881837  5773.039662\n",
       "21 2020-05-31  5888.209651  5735.099696  6048.915977\n",
       "22 2020-06-07  6152.316358  5993.252938  6304.394752\n",
       "23 2020-06-14  6416.423064  6241.683759  6584.086152\n",
       "24 2020-06-21  6680.529771  6510.675825  6835.740102\n",
       "25 2020-06-28  6944.636477  6770.614696  7113.237196\n",
       "26 2020-07-05  7208.743184  7032.922300  7390.389491"
      ]
     },
     "execution_count": 15,
     "metadata": {},
     "output_type": "execute_result"
    }
   ],
   "source": [
    "forecast[['ds', 'trend', 'yhat_lower','yhat_upper']][14:]"
   ]
  },
  {
   "cell_type": "markdown",
   "metadata": {},
   "source": [
    "## Выводы"
   ]
  },
  {
   "cell_type": "markdown",
   "metadata": {},
   "source": [
    "* Наблюдается линейный восходящий тренд продаж товара;\n",
    "* Проведенная акция не сильно повлияла на скорость восхождения линейного тренда;\n",
    "* Зависимость тренда от сезонности остается неизвестной, необходимо собрать данные за год;\n",
    "* Необходимо более точно изучить с чем связан рост количества заказов после 22 марта. При таком маленьком количестве данных, он сильно влияет на тренд. \n"
   ]
  }
 ],
 "metadata": {
  "kernelspec": {
   "display_name": "Python 3 (ipykernel)",
   "language": "python",
   "name": "python3"
  },
  "language_info": {
   "codemirror_mode": {
    "name": "ipython",
    "version": 3
   },
   "file_extension": ".py",
   "mimetype": "text/x-python",
   "name": "python",
   "nbconvert_exporter": "python",
   "pygments_lexer": "ipython3",
   "version": "3.8.7"
  }
 },
 "nbformat": 4,
 "nbformat_minor": 4
}
